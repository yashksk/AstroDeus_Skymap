{
 "cells": [
  {
   "cell_type": "code",
   "execution_count": 1,
   "metadata": {},
   "outputs": [],
   "source": [
    "import pandas as pd\n",
    "import numpy as np"
   ]
  },
  {
   "cell_type": "code",
   "execution_count": 2,
   "metadata": {},
   "outputs": [
    {
     "name": "stdout",
     "output_type": "stream",
     "text": [
      "watermark 1.8.1\n",
      "numpy     1.15.4\n",
      "pandas    0.23.4\n",
      "ELEANOR LUTZ 2019-07-11 \n",
      "\n",
      "CPython 3.7.1\n",
      "IPython 7.2.0\n",
      "\n",
      "compiler   : MSC v.1900 64 bit (AMD64)\n",
      "system     : Windows\n",
      "release    : 10\n",
      "machine    : AMD64\n",
      "processor  : Intel64 Family 6 Model 63 Stepping 2, GenuineIntel\n",
      "CPU cores  : 12\n",
      "interpreter: 64bit\n"
     ]
    }
   ],
   "source": [
    "# Watermark is not required for this code, but is included for information. \n",
    "import watermark\n",
    "%load_ext watermark\n",
    "%watermark -a \"ELEANOR LUTZ\" -d -v -iv -m"
   ]
  },
  {
   "cell_type": "markdown",
   "metadata": {},
   "source": [
    "## Data Source\n",
    "The data in this `CSV` file was manually entered by hand using W.H. Finlay's [Concise Catalog of Deep-sky Objects](https://www.springer.com/us/book/9781852338510) as a reference text. All objects in the book with a magnitude less than 6.5 was included in the `CSV` file. "
   ]
  },
  {
   "cell_type": "code",
   "execution_count": 3,
   "metadata": {},
   "outputs": [
    {
     "name": "stdout",
     "output_type": "stream",
     "text": [
      "['open cluster' 'globular cluster' 'emission nebula, open cluster'\n",
      " 'emission nebula' 'star cloud' 'spiral galaxy']\n"
     ]
    },
    {
     "data": {
      "text/html": [
       "<div>\n",
       "<style scoped>\n",
       "    .dataframe tbody tr th:only-of-type {\n",
       "        vertical-align: middle;\n",
       "    }\n",
       "\n",
       "    .dataframe tbody tr th {\n",
       "        vertical-align: top;\n",
       "    }\n",
       "\n",
       "    .dataframe thead th {\n",
       "        text-align: right;\n",
       "    }\n",
       "</style>\n",
       "<table border=\"1\" class=\"dataframe\">\n",
       "  <thead>\n",
       "    <tr style=\"text-align: right;\">\n",
       "      <th></th>\n",
       "      <th>name</th>\n",
       "      <th>type</th>\n",
       "      <th>ra</th>\n",
       "      <th>dec</th>\n",
       "      <th>magnitude</th>\n",
       "      <th>proper_name</th>\n",
       "      <th>ra_original</th>\n",
       "      <th>dec_original</th>\n",
       "      <th>code</th>\n",
       "      <th>name_2</th>\n",
       "    </tr>\n",
       "  </thead>\n",
       "  <tbody>\n",
       "    <tr>\n",
       "      <th>0</th>\n",
       "      <td>M11</td>\n",
       "      <td>open cluster</td>\n",
       "      <td>18.851667</td>\n",
       "      <td>-6.266667</td>\n",
       "      <td>5.8</td>\n",
       "      <td>Wild Duck Cluster</td>\n",
       "      <td>18h 51.1m</td>\n",
       "      <td>-6d 16'</td>\n",
       "      <td>ᚸ</td>\n",
       "      <td>Wild Duck Cluster</td>\n",
       "    </tr>\n",
       "    <tr>\n",
       "      <th>1</th>\n",
       "      <td>M13</td>\n",
       "      <td>globular cluster</td>\n",
       "      <td>16.695000</td>\n",
       "      <td>36.466667</td>\n",
       "      <td>5.8</td>\n",
       "      <td>Hercules Cluster</td>\n",
       "      <td>16h 41.7m</td>\n",
       "      <td>+36d 28'</td>\n",
       "      <td>✤</td>\n",
       "      <td>Hercules Cluster</td>\n",
       "    </tr>\n",
       "    <tr>\n",
       "      <th>2</th>\n",
       "      <td>M15</td>\n",
       "      <td>globular cluster</td>\n",
       "      <td>21.500000</td>\n",
       "      <td>12.166667</td>\n",
       "      <td>6.2</td>\n",
       "      <td>NaN</td>\n",
       "      <td>21h 30m</td>\n",
       "      <td>+12d 10'</td>\n",
       "      <td>✤</td>\n",
       "      <td>M15</td>\n",
       "    </tr>\n",
       "    <tr>\n",
       "      <th>3</th>\n",
       "      <td>M16</td>\n",
       "      <td>open cluster</td>\n",
       "      <td>18.313333</td>\n",
       "      <td>-13.783333</td>\n",
       "      <td>6.0</td>\n",
       "      <td>Eagle Nebula</td>\n",
       "      <td>18h 18.8m</td>\n",
       "      <td>-13d 47'</td>\n",
       "      <td>ᚸ</td>\n",
       "      <td>Eagle Nebula</td>\n",
       "    </tr>\n",
       "    <tr>\n",
       "      <th>4</th>\n",
       "      <td>M17</td>\n",
       "      <td>emission nebula, open cluster</td>\n",
       "      <td>18.346667</td>\n",
       "      <td>-16.183333</td>\n",
       "      <td>6.0</td>\n",
       "      <td>Swan Nebula</td>\n",
       "      <td>18h 20.8m</td>\n",
       "      <td>-16d 11'</td>\n",
       "      <td>◈</td>\n",
       "      <td>Swan Nebula</td>\n",
       "    </tr>\n",
       "  </tbody>\n",
       "</table>\n",
       "</div>"
      ],
      "text/plain": [
       "  name                           type         ra        dec  magnitude  \\\n",
       "0  M11                   open cluster  18.851667  -6.266667        5.8   \n",
       "1  M13               globular cluster  16.695000  36.466667        5.8   \n",
       "2  M15               globular cluster  21.500000  12.166667        6.2   \n",
       "3  M16                   open cluster  18.313333 -13.783333        6.0   \n",
       "4  M17  emission nebula, open cluster  18.346667 -16.183333        6.0   \n",
       "\n",
       "         proper_name ra_original dec_original code             name_2  \n",
       "0  Wild Duck Cluster   18h 51.1m      -6d 16'    ᚸ  Wild Duck Cluster  \n",
       "1   Hercules Cluster   16h 41.7m     +36d 28'    ✤   Hercules Cluster  \n",
       "2                NaN     21h 30m     +12d 10'    ✤                M15  \n",
       "3       Eagle Nebula   18h 18.8m     -13d 47'    ᚸ       Eagle Nebula  \n",
       "4        Swan Nebula   18h 20.8m     -16d 11'    ◈        Swan Nebula  "
      ]
     },
     "execution_count": 3,
     "metadata": {},
     "output_type": "execute_result"
    }
   ],
   "source": [
    "df = pd.read_csv('./data/messier_ngc.csv')\n",
    "\n",
    "df['ra_h'] = df['ra'].str.split(\"h \").str.get(0).astype(int)\n",
    "df['ra_min'] = df['ra'].str.split(\"h \").str.get(1).str.replace(\"m\", \"\").astype(float)\n",
    "df['ra_original'] = df['ra'].copy()\n",
    "df['ra'] = df['ra_h'] + df['ra_min']/60\n",
    "\n",
    "df['dec_sign'] = df['dec'].str.get(0)\n",
    "df['dec_degrees'] = np.abs(df['dec'].str.split(\"d\").str.get(0).astype(int))\n",
    "df['dec_seconds'] = df['dec'].str.split(\"d \").str.get(1).str.replace(\"'\", \"\").astype(float)\n",
    "df['dec_original'] = df['dec'].copy()\n",
    "df['dec'] = df['dec_degrees'] + df['dec_seconds']/60\n",
    "df['dec'] = df['dec_sign'] + df['dec'].astype(str)\n",
    "df['dec'] = df['dec'].astype(float)\n",
    "df.drop(['ra_h', 'ra_min', 'dec_sign', 'dec_degrees', 'dec_seconds'], axis=1, inplace=True)\n",
    "\n",
    "print(df['type'].unique())\n",
    "unicodes = {'open cluster': u\"\\u16b8\", 'globular cluster': u\"\\u2724\",\n",
    "            'emission nebula': u\"\\u16e5\", \"star cloud\": u\"\\u2388\", \"spiral galaxy\": u\"\\u214f\", \n",
    "            \"planetary nebula\": u\"\\u16bb\", 'emission nebula, open cluster': u\"\\u25c8\"}\n",
    "df['code'] = df['type'].replace(unicodes)\n",
    "\n",
    "df['name_2'] = df['proper_name'].replace(np.nan, df['name'])\n",
    "\n",
    "df.to_csv('./data/processed/messier_ngc_processed.csv', index=False)\n",
    "df.head()"
   ]
  },
  {
   "cell_type": "code",
   "execution_count": null,
   "metadata": {},
   "outputs": [],
   "source": []
  }
 ],
 "metadata": {
  "kernelspec": {
   "display_name": "Python 3",
   "language": "python",
   "name": "python3"
  },
  "language_info": {
   "codemirror_mode": {
    "name": "ipython",
    "version": 3
   },
   "file_extension": ".py",
   "mimetype": "text/x-python",
   "name": "python",
   "nbconvert_exporter": "python",
   "pygments_lexer": "ipython3",
   "version": "3.7.1"
  }
 },
 "nbformat": 4,
 "nbformat_minor": 2
}
